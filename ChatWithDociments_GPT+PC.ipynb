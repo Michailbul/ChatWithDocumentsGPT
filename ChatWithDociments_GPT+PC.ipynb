{
 "cells": [
  {
   "cell_type": "code",
   "execution_count": 1,
   "metadata": {},
   "outputs": [
    {
     "name": "stdout",
     "output_type": "stream",
     "text": [
      "Collecting openai==0.27.1\n",
      "  Downloading openai-0.27.1.tar.gz (57 kB)\n",
      "     ---------------------------------------- 57.3/57.3 kB 1.5 MB/s eta 0:00:00\n",
      "  Installing build dependencies: started\n",
      "  Installing build dependencies: finished with status 'done'\n",
      "  Getting requirements to build wheel: started\n",
      "  Getting requirements to build wheel: finished with status 'done'\n",
      "  Installing backend dependencies: started\n",
      "  Installing backend dependencies: finished with status 'done'\n",
      "  Preparing metadata (pyproject.toml): started\n",
      "  Preparing metadata (pyproject.toml): finished with status 'done'\n",
      "Requirement already satisfied: aiohttp in c:\\users\\28263\\anaconda3\\lib\\site-packages (from openai==0.27.1) (3.9.1)\n",
      "Requirement already satisfied: requests>=2.20 in c:\\users\\28263\\anaconda3\\lib\\site-packages (from openai==0.27.1) (2.31.0)\n",
      "Requirement already satisfied: tqdm in c:\\users\\28263\\anaconda3\\lib\\site-packages (from openai==0.27.1) (4.65.0)\n",
      "Requirement already satisfied: certifi>=2017.4.17 in c:\\users\\28263\\anaconda3\\lib\\site-packages (from requests>=2.20->openai==0.27.1) (2023.11.17)\n",
      "Requirement already satisfied: charset-normalizer<4,>=2 in c:\\users\\28263\\anaconda3\\lib\\site-packages (from requests>=2.20->openai==0.27.1) (2.0.4)\n",
      "Requirement already satisfied: idna<4,>=2.5 in c:\\users\\28263\\anaconda3\\lib\\site-packages (from requests>=2.20->openai==0.27.1) (3.4)\n",
      "Requirement already satisfied: urllib3<3,>=1.21.1 in c:\\users\\28263\\anaconda3\\lib\\site-packages (from requests>=2.20->openai==0.27.1) (2.2.1)\n",
      "Requirement already satisfied: multidict<7.0,>=4.5 in c:\\users\\28263\\anaconda3\\lib\\site-packages (from aiohttp->openai==0.27.1) (6.0.4)\n",
      "Requirement already satisfied: aiosignal>=1.1.2 in c:\\users\\28263\\anaconda3\\lib\\site-packages (from aiohttp->openai==0.27.1) (1.3.1)\n",
      "Requirement already satisfied: attrs>=17.3.0 in c:\\users\\28263\\anaconda3\\lib\\site-packages (from aiohttp->openai==0.27.1) (22.1.0)\n",
      "Requirement already satisfied: frozenlist>=1.1.1 in c:\\users\\28263\\anaconda3\\lib\\site-packages (from aiohttp->openai==0.27.1) (1.4.1)\n",
      "Requirement already satisfied: async-timeout<5.0,>=4.0 in c:\\users\\28263\\anaconda3\\lib\\site-packages (from aiohttp->openai==0.27.1) (4.0.3)\n",
      "Requirement already satisfied: yarl<2.0,>=1.0 in c:\\users\\28263\\anaconda3\\lib\\site-packages (from aiohttp->openai==0.27.1) (1.9.4)\n",
      "Requirement already satisfied: colorama in c:\\users\\28263\\anaconda3\\lib\\site-packages (from tqdm->openai==0.27.1) (0.4.6)\n",
      "Building wheels for collected packages: openai\n",
      "  Building wheel for openai (pyproject.toml): started\n",
      "  Building wheel for openai (pyproject.toml): finished with status 'done'\n",
      "  Created wheel for openai: filename=openai-0.27.1-py3-none-any.whl size=70128 sha256=ff313a7101651b0e936160f31f643d7b9bd5a6e8916267ed6121b8416927d4c5\n",
      "  Stored in directory: c:\\users\\28263\\appdata\\local\\pip\\cache\\wheels\\41\\c8\\4f\\138501f9183f9d73c64387828c0a876edf0b330f8d1da3fca7\n",
      "Successfully built openai\n",
      "Installing collected packages: openai\n",
      "  Attempting uninstall: openai\n",
      "    Found existing installation: openai 1.8.0\n",
      "    Uninstalling openai-1.8.0:\n",
      "      Successfully uninstalled openai-1.8.0\n",
      "Successfully installed openai-0.27.1\n"
     ]
    },
    {
     "name": "stderr",
     "output_type": "stream",
     "text": [
      "ERROR: pip's dependency resolver does not currently take into account all the packages that are installed. This behaviour is the source of the following dependency conflicts.\n",
      "langchain-openai 0.0.2.post1 requires openai<2.0.0,>=1.6.1, but you have openai 0.27.1 which is incompatible.\n"
     ]
    },
    {
     "name": "stdout",
     "output_type": "stream",
     "text": [
      "Collecting langchain==0.0.184\n",
      "  Downloading langchain-0.0.184-py3-none-any.whl (939 kB)\n",
      "     -------------------------------------- 939.3/939.3 kB 6.6 MB/s eta 0:00:00\n",
      "Requirement already satisfied: PyYAML>=5.4.1 in c:\\users\\28263\\anaconda3\\lib\\site-packages (from langchain==0.0.184) (6.0)\n",
      "Requirement already satisfied: pydantic<2,>=1 in c:\\users\\28263\\anaconda3\\lib\\site-packages (from langchain==0.0.184) (1.10.14)\n",
      "Requirement already satisfied: SQLAlchemy<3,>=1.4 in c:\\users\\28263\\anaconda3\\lib\\site-packages (from langchain==0.0.184) (1.4.39)\n",
      "Requirement already satisfied: requests<3,>=2 in c:\\users\\28263\\anaconda3\\lib\\site-packages (from langchain==0.0.184) (2.31.0)\n",
      "Requirement already satisfied: async-timeout<5.0.0,>=4.0.0 in c:\\users\\28263\\anaconda3\\lib\\site-packages (from langchain==0.0.184) (4.0.3)\n",
      "Requirement already satisfied: numexpr<3.0.0,>=2.8.4 in c:\\users\\28263\\anaconda3\\lib\\site-packages (from langchain==0.0.184) (2.8.4)\n",
      "Requirement already satisfied: tenacity<9.0.0,>=8.1.0 in c:\\users\\28263\\anaconda3\\lib\\site-packages (from langchain==0.0.184) (8.2.3)\n",
      "Requirement already satisfied: aiohttp<4.0.0,>=3.8.3 in c:\\users\\28263\\anaconda3\\lib\\site-packages (from langchain==0.0.184) (3.9.1)\n",
      "Requirement already satisfied: numpy<2,>=1 in c:\\users\\28263\\anaconda3\\lib\\site-packages (from langchain==0.0.184) (1.23.5)\n",
      "Requirement already satisfied: openapi-schema-pydantic<2.0,>=1.2 in c:\\users\\28263\\anaconda3\\lib\\site-packages (from langchain==0.0.184) (1.2.4)\n",
      "Requirement already satisfied: dataclasses-json<0.6.0,>=0.5.7 in c:\\users\\28263\\anaconda3\\lib\\site-packages (from langchain==0.0.184) (0.5.14)\n",
      "Requirement already satisfied: aiosignal>=1.1.2 in c:\\users\\28263\\anaconda3\\lib\\site-packages (from aiohttp<4.0.0,>=3.8.3->langchain==0.0.184) (1.3.1)\n",
      "Requirement already satisfied: attrs>=17.3.0 in c:\\users\\28263\\anaconda3\\lib\\site-packages (from aiohttp<4.0.0,>=3.8.3->langchain==0.0.184) (22.1.0)\n",
      "Requirement already satisfied: yarl<2.0,>=1.0 in c:\\users\\28263\\anaconda3\\lib\\site-packages (from aiohttp<4.0.0,>=3.8.3->langchain==0.0.184) (1.9.4)\n",
      "Requirement already satisfied: frozenlist>=1.1.1 in c:\\users\\28263\\anaconda3\\lib\\site-packages (from aiohttp<4.0.0,>=3.8.3->langchain==0.0.184) (1.4.1)\n",
      "Requirement already satisfied: multidict<7.0,>=4.5 in c:\\users\\28263\\anaconda3\\lib\\site-packages (from aiohttp<4.0.0,>=3.8.3->langchain==0.0.184) (6.0.4)\n",
      "Requirement already satisfied: marshmallow<4.0.0,>=3.18.0 in c:\\users\\28263\\anaconda3\\lib\\site-packages (from dataclasses-json<0.6.0,>=0.5.7->langchain==0.0.184) (3.20.1)\n",
      "Requirement already satisfied: typing-inspect<1,>=0.4.0 in c:\\users\\28263\\anaconda3\\lib\\site-packages (from dataclasses-json<0.6.0,>=0.5.7->langchain==0.0.184) (0.9.0)\n",
      "Requirement already satisfied: typing-extensions>=4.2.0 in c:\\users\\28263\\anaconda3\\lib\\site-packages (from pydantic<2,>=1->langchain==0.0.184) (4.8.0)\n",
      "Requirement already satisfied: idna<4,>=2.5 in c:\\users\\28263\\anaconda3\\lib\\site-packages (from requests<3,>=2->langchain==0.0.184) (3.4)\n",
      "Requirement already satisfied: charset-normalizer<4,>=2 in c:\\users\\28263\\anaconda3\\lib\\site-packages (from requests<3,>=2->langchain==0.0.184) (2.0.4)\n",
      "Requirement already satisfied: certifi>=2017.4.17 in c:\\users\\28263\\anaconda3\\lib\\site-packages (from requests<3,>=2->langchain==0.0.184) (2023.11.17)\n",
      "Requirement already satisfied: urllib3<3,>=1.21.1 in c:\\users\\28263\\anaconda3\\lib\\site-packages (from requests<3,>=2->langchain==0.0.184) (2.2.1)\n",
      "Requirement already satisfied: greenlet!=0.4.17 in c:\\users\\28263\\anaconda3\\lib\\site-packages (from SQLAlchemy<3,>=1.4->langchain==0.0.184) (2.0.1)\n",
      "Requirement already satisfied: packaging>=17.0 in c:\\users\\28263\\anaconda3\\lib\\site-packages (from marshmallow<4.0.0,>=3.18.0->dataclasses-json<0.6.0,>=0.5.7->langchain==0.0.184) (23.2)\n",
      "Requirement already satisfied: mypy-extensions>=0.3.0 in c:\\users\\28263\\anaconda3\\lib\\site-packages (from typing-inspect<1,>=0.4.0->dataclasses-json<0.6.0,>=0.5.7->langchain==0.0.184) (0.4.3)\n",
      "Installing collected packages: langchain\n",
      "  Attempting uninstall: langchain\n",
      "    Found existing installation: langchain 0.1.1\n",
      "    Uninstalling langchain-0.1.1:\n",
      "      Successfully uninstalled langchain-0.1.1\n",
      "Successfully installed langchain-0.0.203\n"
     ]
    },
    {
     "name": "stderr",
     "output_type": "stream",
     "text": [
      "ERROR: pip's dependency resolver does not currently take into account all the packages that are installed. This behaviour is the source of the following dependency conflicts.\n",
      "langserve 0.0.39 requires langchain>=0.0.333, but you have langchain 0.0.184 which is incompatible.\n"
     ]
    },
    {
     "name": "stdout",
     "output_type": "stream",
     "text": [
      "Requirement already satisfied: tiktoken in c:\\users\\28263\\anaconda3\\lib\\site-packages (0.5.2)\n",
      "Requirement already satisfied: requests>=2.26.0 in c:\\users\\28263\\anaconda3\\lib\\site-packages (from tiktoken) (2.31.0)\n",
      "Requirement already satisfied: regex>=2022.1.18 in c:\\users\\28263\\anaconda3\\lib\\site-packages (from tiktoken) (2022.7.9)\n",
      "Requirement already satisfied: charset-normalizer<4,>=2 in c:\\users\\28263\\anaconda3\\lib\\site-packages (from requests>=2.26.0->tiktoken) (2.0.4)\n",
      "Requirement already satisfied: idna<4,>=2.5 in c:\\users\\28263\\anaconda3\\lib\\site-packages (from requests>=2.26.0->tiktoken) (3.4)\n",
      "Requirement already satisfied: certifi>=2017.4.17 in c:\\users\\28263\\anaconda3\\lib\\site-packages (from requests>=2.26.0->tiktoken) (2023.11.17)\n",
      "Requirement already satisfied: urllib3<3,>=1.21.1 in c:\\users\\28263\\anaconda3\\lib\\site-packages (from requests>=2.26.0->tiktoken) (2.2.1)\n",
      "Collecting wikipedia\n",
      "  Downloading wikipedia-1.4.0.tar.gz (27 kB)\n",
      "  Preparing metadata (setup.py): started\n",
      "  Preparing metadata (setup.py): finished with status 'done'\n",
      "Requirement already satisfied: beautifulsoup4 in c:\\users\\28263\\anaconda3\\lib\\site-packages (from wikipedia) (4.11.1)\n",
      "Requirement already satisfied: requests<3.0.0,>=2.0.0 in c:\\users\\28263\\anaconda3\\lib\\site-packages (from wikipedia) (2.31.0)\n",
      "Requirement already satisfied: charset-normalizer<4,>=2 in c:\\users\\28263\\anaconda3\\lib\\site-packages (from requests<3.0.0,>=2.0.0->wikipedia) (2.0.4)\n",
      "Requirement already satisfied: idna<4,>=2.5 in c:\\users\\28263\\anaconda3\\lib\\site-packages (from requests<3.0.0,>=2.0.0->wikipedia) (3.4)\n",
      "Requirement already satisfied: urllib3<3,>=1.21.1 in c:\\users\\28263\\anaconda3\\lib\\site-packages (from requests<3.0.0,>=2.0.0->wikipedia) (2.2.1)\n",
      "Requirement already satisfied: certifi>=2017.4.17 in c:\\users\\28263\\anaconda3\\lib\\site-packages (from requests<3.0.0,>=2.0.0->wikipedia) (2023.11.17)\n",
      "Requirement already satisfied: soupsieve>1.2 in c:\\users\\28263\\anaconda3\\lib\\site-packages (from beautifulsoup4->wikipedia) (2.3.2.post1)\n",
      "Building wheels for collected packages: wikipedia\n",
      "  Building wheel for wikipedia (setup.py): started\n",
      "  Building wheel for wikipedia (setup.py): finished with status 'done'\n",
      "  Created wheel for wikipedia: filename=wikipedia-1.4.0-py3-none-any.whl size=11707 sha256=00aed773b09e27594e0d549b6b1e8bc87986d89cafdaf824acfe78d0451e824e\n",
      "  Stored in directory: c:\\users\\28263\\appdata\\local\\pip\\cache\\wheels\\b2\\7f\\26\\524faff9145e274da278dc97d63ab0bfde1f791ecf101a9c95\n",
      "Successfully built wikipedia\n",
      "Installing collected packages: wikipedia\n",
      "Successfully installed wikipedia-1.4.0\n",
      "Requirement already satisfied: pypdf in c:\\users\\28263\\anaconda3\\lib\\site-packages (4.1.0)\n",
      "Collecting faiss-cpu\n",
      "  Downloading faiss_cpu-1.8.0-cp310-cp310-win_amd64.whl (14.5 MB)\n",
      "     ---------------------------------------- 14.5/14.5 MB 7.2 MB/s eta 0:00:00\n",
      "Requirement already satisfied: numpy in c:\\users\\28263\\anaconda3\\lib\\site-packages (from faiss-cpu) (1.23.5)\n",
      "Installing collected packages: faiss-cpu\n",
      "Successfully installed faiss-cpu-1.8.0\n",
      "Requirement already satisfied: pinecone-client in c:\\users\\28263\\anaconda3\\lib\\site-packages (2.2.4)\n",
      "Requirement already satisfied: pyyaml>=5.4 in c:\\users\\28263\\anaconda3\\lib\\site-packages (from pinecone-client) (6.0)\n",
      "Requirement already satisfied: numpy>=1.22.0 in c:\\users\\28263\\anaconda3\\lib\\site-packages (from pinecone-client) (1.23.5)\n",
      "Requirement already satisfied: python-dateutil>=2.5.3 in c:\\users\\28263\\anaconda3\\lib\\site-packages (from pinecone-client) (2.8.2)\n",
      "Requirement already satisfied: requests>=2.19.0 in c:\\users\\28263\\anaconda3\\lib\\site-packages (from pinecone-client) (2.31.0)\n",
      "Requirement already satisfied: urllib3>=1.21.1 in c:\\users\\28263\\anaconda3\\lib\\site-packages (from pinecone-client) (2.2.1)\n",
      "Requirement already satisfied: tqdm>=4.64.1 in c:\\users\\28263\\anaconda3\\lib\\site-packages (from pinecone-client) (4.65.0)\n",
      "Requirement already satisfied: typing-extensions>=3.7.4 in c:\\users\\28263\\anaconda3\\lib\\site-packages (from pinecone-client) (4.8.0)\n",
      "Requirement already satisfied: loguru>=0.5.0 in c:\\users\\28263\\anaconda3\\lib\\site-packages (from pinecone-client) (0.7.2)\n",
      "Requirement already satisfied: dnspython>=2.0.0 in c:\\users\\28263\\anaconda3\\lib\\site-packages (from pinecone-client) (2.4.2)\n",
      "Requirement already satisfied: colorama>=0.3.4 in c:\\users\\28263\\anaconda3\\lib\\site-packages (from loguru>=0.5.0->pinecone-client) (0.4.6)\n",
      "Requirement already satisfied: win32-setctime>=1.0.0 in c:\\users\\28263\\anaconda3\\lib\\site-packages (from loguru>=0.5.0->pinecone-client) (1.1.0)\n",
      "Requirement already satisfied: six>=1.5 in c:\\users\\28263\\anaconda3\\lib\\site-packages (from python-dateutil>=2.5.3->pinecone-client) (1.16.0)\n",
      "Requirement already satisfied: idna<4,>=2.5 in c:\\users\\28263\\anaconda3\\lib\\site-packages (from requests>=2.19.0->pinecone-client) (3.4)\n",
      "Requirement already satisfied: charset-normalizer<4,>=2 in c:\\users\\28263\\anaconda3\\lib\\site-packages (from requests>=2.19.0->pinecone-client) (2.0.4)\n",
      "Requirement already satisfied: certifi>=2017.4.17 in c:\\users\\28263\\anaconda3\\lib\\site-packages (from requests>=2.19.0->pinecone-client) (2023.11.17)\n"
     ]
    }
   ],
   "source": [
    "!pip install openai==\n",
    "!pip install langchain==\n",
    "!pip install tiktoken\n",
    "!pip install wikipedia\n",
    "!pip install pypdf\n",
    "!pip install faiss-cpu\n",
    "!pip install pinecone-client"
   ]
  },
  {
   "cell_type": "code",
   "execution_count": 17,
   "metadata": {},
   "outputs": [],
   "source": [
    "# Basics\n",
    "import os\n",
    "import pandas as pd\n",
    "import matplotlib.pyplot as plt\n",
    "from dotenv import load_dotenv\n",
    "\n",
    "# LangChain Training\n",
    "# LLM\n",
    "from langchain.llms import OpenAI\n",
    "\n",
    "# Document Loader\n",
    "from langchain.document_loaders import PyPDFLoader \n",
    "\n",
    "# Splitter\n",
    "from langchain.text_splitter import RecursiveCharacterTextSplitter \n",
    "\n",
    "# Tokenizer\n",
    "from transformers import GPT2TokenizerFast  \n",
    "\n",
    "# Embedding\n",
    "from langchain.embeddings import OpenAIEmbeddings \n",
    "\n",
    "# Vector DataBase\n",
    "from langchain.vectorstores import FAISS, Pinecone # for the vector database part -- FAISS is local and temporal, Pinecone is cloud-based and permanent. \n",
    "\n",
    "# Chains\n",
    "#from langchain.chains.question_answering import load_qa_chain\n",
    "#from langchain.chains import ConversationalRetrievalChain"
   ]
  },
  {
   "cell_type": "code",
   "execution_count": null,
   "metadata": {},
   "outputs": [],
   "source": [
    "import os\n",
    "\n",
    "openai_api_key = os.environ[\"OPENAI_API_KEY\"]\n",
    "pinecone_api_key = os.environ[\"PINECONE_API_KEY\"]\n",
    "pinecone_env_key = os.environ[\"PINECONE_ENV_KEY\"]\n",
    "\n",
    "# Alternatively, you can set the API keys as follows:\n",
    "#os.environ[\"OPENAI_API_KEY\"] = \"sk-\"\n",
    "#PINECONE_API_KEY = \"34...\"\n",
    "#PINECONE_ENV_KEY = \"gcp-starter\""
   ]
  },
  {
   "cell_type": "code",
   "execution_count": null,
   "metadata": {},
   "outputs": [],
   "source": [
    "from langchain.llms import OpenAI\n",
    "\n",
    "chatgpt = OpenAI(\n",
    "                 model_name = \"gpt-3.5-turbo-1160\", \n",
    "                 temperature= 0\n",
    ")\n",
    "\n",
    "prompt=\"Please, tell me some funny jokes\"\n",
    "\n",
    "print(chatgpt(prompt))"
   ]
  },
  {
   "cell_type": "code",
   "execution_count": 4,
   "metadata": {},
   "outputs": [
    {
     "name": "stdout",
     "output_type": "stream",
     "text": [
      "I recommend the following destinations for your next trip:\n",
      "\n",
      "1. **Santorini, Greece**: Explore the stunning white-washed buildings perched on cliffs overlooking the crystal-clear waters of the Aegean Sea.\n",
      "   \n",
      "2. **Kyoto, Japan**: Immerse yourself in the rich history and culture of Kyoto by visiting ancient temples, traditional tea houses, and beautiful gardens.\n",
      "   \n",
      "3. **Banff National Park, Canada**: Experience the breathtaking beauty of the Canadian Rockies with turquoise lakes, snow-capped mountains, and abundant wildlife.\n"
     ]
    }
   ],
   "source": [
    "from langchain.chat_models import ChatOpenAI\n",
    "from langchain.schema import HumanMessage, SystemMessage, AIMessage\n",
    "\n",
    "chatgpt = ChatOpenAI(model_name = \"gpt-3.5-turbo\",\n",
    "                  temperature=0\n",
    "                 )\n",
    "\n",
    "high_level_behavior = \"\"\"\n",
    "                       You are an AI bot that help people decide where to travel. \n",
    "                       Always recommend three destination with a short sentence for each.\n",
    "                      \"\"\"\n",
    "\n",
    "response = chatgpt(\n",
    "    [\n",
    "        SystemMessage(content=high_level_behavior),\n",
    "        AIMessage(content=\"Hello! I am a traveller assistant, how can I help you?\"),\n",
    "        HumanMessage(content=\"Where should I travel next?\"),\n",
    "    ]\n",
    ")\n",
    "\n",
    "print(response.content)"
   ]
  },
  {
   "cell_type": "code",
   "execution_count": 5,
   "metadata": {},
   "outputs": [
    {
     "name": "stdout",
     "output_type": "stream",
     "text": [
      "Great! Based on your interest in museums, I recommend the following destinations:\n",
      "\n",
      "1. **Paris, France**: Explore world-renowned museums such as the Louvre, Musée d'Orsay, and Centre Pompidou in the artistic and cultural hub of Paris.\n",
      "\n",
      "2. **Florence, Italy**: Immerse yourself in the Renaissance art and history at museums like the Uffizi Gallery and Accademia Gallery, home to Michelangelo's David.\n",
      "\n",
      "3. **Mexico City, Mexico**: Discover the rich cultural heritage at museums like the National Museum of Anthropology and the Frida Kahlo Museum, showcasing the country's vibrant art and history.\n"
     ]
    }
   ],
   "source": [
    "response = chatgpt(\n",
    "        [\n",
    "            SystemMessage(content=high_level_behavior),\n",
    "            AIMessage(content=\"Hello! I am a traveller assistant, how can I help you?\"),\n",
    "            HumanMessage(content=\"Where should I travel next?\"),\n",
    "            SystemMessage(content=\"What do you enjoy doing?\"),\n",
    "            HumanMessage(content=\"I love going to Museums?\"),\n",
    "        ]\n",
    "    )\n",
    "\n",
    "print(response.content)"
   ]
  },
  {
   "cell_type": "code",
   "execution_count": 6,
   "metadata": {},
   "outputs": [
    {
     "name": "stdout",
     "output_type": "stream",
     "text": [
      "Your embedding is length 1536\n",
      "Here's a sample: [-0.0023176560644060373, -0.003950586076825857, -0.001200637430883944, -0.017430542036890984, -0.021305397152900696]...\n"
     ]
    }
   ],
   "source": [
    "# 1. Import the embedding model\n",
    "from langchain.embeddings import OpenAIEmbeddings\n",
    "\n",
    "# 2. Create an instance of the model\n",
    "embeddings = OpenAIEmbeddings()\n",
    "\n",
    "# 3. Define a text to embed\n",
    "text = \"Hi! It's time to go to a Museum!\"\n",
    "\n",
    "# 4. Embed the text\n",
    "text_embedding = embeddings.embed_query(text)\n",
    "print (f\"Your embedding is length {len(text_embedding)}\")\n",
    "print (f\"Here's a sample: {text_embedding[:5]}...\")"
   ]
  },
  {
   "cell_type": "code",
   "execution_count": 7,
   "metadata": {},
   "outputs": [
    {
     "data": {
      "text/plain": [
       "'Hello! How are you today?'"
      ]
     },
     "execution_count": 7,
     "metadata": {},
     "output_type": "execute_result"
    }
   ],
   "source": [
    "from langchain.chains import ConversationChain\n",
    "\n",
    "\n",
    "\n",
    "conversation = ConversationChain(llm=chatgpt)\n",
    "conversation.run(\"Hello!\")\n",
    "\n",
    "#from langchain.chains.question_answering import load_qa_chain \n",
    "\n",
    "#chain = load_qa_chain(chatgpt, chain_type=\"stuff\")\n",
    "#chain.run(input_documents = matches, question = enriched_query)"
   ]
  },
  {
   "cell_type": "markdown",
   "metadata": {},
   "source": [
    "## Adding a memory via ConversationSummaryBufferMemory\n",
    "\n",
    "`ConversationSummaryBufferMemory` https://python.langchain.com/docs/modules/memory/types/summary_buffer,  It keeps a buffer of recent interactions in memory, but rather than just completely flushing old interactions it compiles them into a summary and uses both. It uses token length rather than number of interactions to determine when to flush interactions."
   ]
  },
  {
   "cell_type": "code",
   "execution_count": 8,
   "metadata": {},
   "outputs": [
    {
     "name": "stdout",
     "output_type": "stream",
     "text": [
      "\n",
      "\n",
      "\u001b[1m> Entering new ConversationChain chain...\u001b[0m\n",
      "Prompt after formatting:\n",
      "\u001b[32;1m\u001b[1;3mThe following is a friendly conversation between a human and an AI. The AI is talkative and provides lots of specific details from its context. If the AI does not know the answer to a question, it truthfully says it does not know.\n",
      "\n",
      "Current conversation:\n",
      "Human: Can you recommend me where should I travel next?\n",
      "AI: Hello! I am a traveller assistant, sure I can help you. What do you enjoy doing?\n",
      "Human: I love going to Museums\n",
      "AI: Great then you should go to a cultural capital.\n",
      "Human: What cities do you recommend me?\n",
      "AI:\u001b[0m\n",
      "\n",
      "\u001b[1m> Finished chain.\u001b[0m\n"
     ]
    },
    {
     "data": {
      "text/plain": [
       "\"Some popular cities known for their museums are Paris, London, New York City, and Tokyo. Each of these cities has a wide variety of museums to explore, ranging from art museums to history museums to science museums. If you're looking for a specific type of museum, let me know and I can provide more tailored recommendations!\""
      ]
     },
     "execution_count": 8,
     "metadata": {},
     "output_type": "execute_result"
    }
   ],
   "source": [
    "from langchain.memory import ConversationSummaryBufferMemory\n",
    "\n",
    "memory = ConversationSummaryBufferMemory(llm=chatgpt, max_token_limit=100)\n",
    "\n",
    "memory.save_context({\"input\":  \"Can you recommend me where should I travel next?\"}, \n",
    "                    {\"output\": \"Hello! I am a traveller assistant, sure I can help you. What do you enjoy doing?\"})\n",
    "\n",
    "memory.save_context({\"input\":  \"I love going to Museums\"}, \n",
    "                    {\"output\": \"Great then you should go to a cultural capital.\"})\n",
    "\n",
    "chatgpt = ChatOpenAI(model_name = \"gpt-3.5-turbo\",\n",
    "                  temperature=0\n",
    "                 )\n",
    "\n",
    "conversation = ConversationChain(\n",
    "    llm=chatgpt, \n",
    "    memory = memory,\n",
    "    verbose=True\n",
    ")\n",
    "\n",
    "conversation.run(\"What cities do you recommend me?\")"
   ]
  },
  {
   "cell_type": "code",
   "execution_count": 9,
   "metadata": {},
   "outputs": [
    {
     "data": {
      "text/plain": [
       "Document(page_content=\"Let's imagine this is a huge document with a lot of words and important stuff.\", metadata={'document_id': 0, 'document_source': 'my_source', 'document_create_time': '01/01/2000'})"
      ]
     },
     "execution_count": 9,
     "metadata": {},
     "output_type": "execute_result"
    }
   ],
   "source": [
    "# 1. Import the document class\n",
    "from langchain.schema import Document\n",
    "\n",
    "# 2. Define the document:\n",
    "Document(page_content=\"Let's imagine this is a huge document with a lot of words and important stuff.\",\n",
    "         metadata={\n",
    "             'document_id' : 0000,\n",
    "             'document_source' : \"my_source\",\n",
    "             'document_create_time' : \"01/01/2000\"\n",
    "         })"
   ]
  },
  {
   "cell_type": "code",
   "execution_count": 12,
   "metadata": {},
   "outputs": [
    {
     "data": {
      "text/plain": [
       "Document(page_content='Machine Learning (ML) is a field of study in artificial intelligence concerned with the development and study of statistical algorithms that can learn from data and generalize to unseen data, and thus perform tasks without explicit instructions. Recently, artificial neural networks have been able to surpass many previous approaches in performance.Machine learning approaches have been applied to many fields including natural language processing, computer vision, speech recognition, email filtering, agriculture, and medicine. ML is known in its application across business problems under the name predictive analytics. Although not all machine learning is statistically based, computational statistics is an important source of the field\\'s methods.\\nThe mathematical foundations of ML are provided by mathematical optimization (mathematical programming) methods. Data mining is a related (parallel) field of study, focusing on exploratory data analysis (EDA) through unsupervised learning.From a theoretical viewpoint, probably approximately correct (PAC) learning provides a framework for describing machine learning.\\n\\n\\n== History ==\\n\\nThe term machine learning was coined in 1959 by Arthur Samuel, an IBM employee and pioneer in the field of computer gaming and artificial intelligence. The synonym self-teaching computers was also used in this time period.Although the earliest machine learning model was introduced in the 1950s when Arthur Samuel invented a program that calculated the winning chance in checkers for each side, the history of machine learning roots back to decades of human desire and effort to study human cognitive processes. In 1949, Canadian psychologist Donald Hebb published the book The Organization of Behavior, in which he introduced a theoretical neural structure formed by certain interactions among nerve cells. Hebb\\'s model of neurons interacting with one another set a groundwork for how AIs and machine learning algorithms work under nodes, or artificial neurons used by computers to communicate data. Other researchers who have studied human cognitive systems contributed to the modern machine learning technologies as well, including logician Walter Pitts and Warren McCulloch, who proposed the early mathematical models of neural networks to come up with algorithms that mirror human thought processes.By the early 1960s an experimental \"learning machine\" with punched tape memory, called Cybertron, had been developed by Raytheon Company to analyze sonar signals, electrocardiograms, and speech patterns using rudimentary reinforcement learning. It was repetitively \"trained\" by a human operator/teacher to recognize patterns and equipped with a \"goof\" button to cause it to re-evaluate incorrect decisions. A representative book on research into machine learning during the 1960s was Nilsson\\'s book on Learning Machines, dealing mostly with machine learning for pattern classification. Interest related to pattern recognition continued into the 1970s, as described by Duda and Hart in 1973. In 1981 a report was given on using teaching strategies so that an artificial neural network learns to recognize 40 characters (26 letters, 10 digits, and 4 special symbols) from a computer terminal.Tom M. Mitchell provided a widely quoted, more formal definition of the algorithms studied in the machine learning field: \"A computer program is said to learn from experience E with respect to some class of tasks T and performance measure P if its performance at tasks in T, as measured by P,  improves with experience E.\" This definition of the tasks in which machine learning is concerned offers a fundamentally operational definition rather than defining the field in cognitive terms. This follows Alan Turing\\'s proposal in his paper \"Computing Machinery and Intelligence\", in which the question \"Can machines think?\" is replaced with the question \"Can machines do what we (as thinking entities) can do?\".Modern-day machine learning has two objectives.  One is to ', metadata={'title': 'Machine learning', 'summary': \"Machine Learning (ML) is a field of study in artificial intelligence concerned with the development and study of statistical algorithms that can learn from data and generalize to unseen data, and thus perform tasks without explicit instructions. Recently, artificial neural networks have been able to surpass many previous approaches in performance.Machine learning approaches have been applied to many fields including natural language processing, computer vision, speech recognition, email filtering, agriculture, and medicine. ML is known in its application across business problems under the name predictive analytics. Although not all machine learning is statistically based, computational statistics is an important source of the field's methods.\\nThe mathematical foundations of ML are provided by mathematical optimization (mathematical programming) methods. Data mining is a related (parallel) field of study, focusing on exploratory data analysis (EDA) through unsupervised learning.From a theoretical viewpoint, probably approximately correct (PAC) learning provides a framework for describing machine learning.\\n\\n\", 'source': 'https://en.wikipedia.org/wiki/Machine_learning'})"
      ]
     },
     "execution_count": 12,
     "metadata": {},
     "output_type": "execute_result"
    }
   ],
   "source": [
    "from langchain.document_loaders import WikipediaLoader\n",
    " \n",
    "# Load content from Wikipedia using WikipediaLoader\n",
    "loader = WikipediaLoader(\"Machine_learning\")\n",
    "wikipedia_data = loader.load() #It returns a list of documents\n",
    "\n",
    "wikipedia_data[0]"
   ]
  },
  {
   "cell_type": "code",
   "execution_count": 11,
   "metadata": {},
   "outputs": [
    {
     "name": "stdout",
     "output_type": "stream",
     "text": [
      "\n",
      "Page Content:  Machine Learning (ML) is a field of study in artificial intelligence concerned with the development and study of statistical algorithms that can learn from data and generalize to unseen data, and thus perform tasks without explicit instructions. Recently, artificial neural networks have been able to surpass many previous approaches in performance.Machine learning approaches have been applied to many fields including natural language processing, computer vision, speech recognition, email filtering, agriculture, and medicine. ML is known in its application across business problems under the name predictive analytics. Although not all machine learning is statistically based, computational statistics is an important source of the field's methods.\n",
      "The mathematical foundations of ML are provided by mathematical optimization (mathematical programming) methods. Data mining is a related (parallel) field of study, focusing on exploratory data analysis (EDA) through unsupervised learning.From a theoretical viewpoint, probably approximately correct (PAC) learning provides a framework for describing machine learning.\n",
      "\n",
      "\n",
      "== History ==\n",
      "\n",
      "The term machine learning was coined in 1959 by Arthur Samuel, an IBM employee and pioneer in the field of computer gaming and artificial intelligence. The synonym self-teaching computers was also used in this time period.Although the earliest machine learning model was introduced in the 1950s when Arthur Samuel invented a program that calculated the winning chance in checkers for each side, the history of machine learning roots back to decades of human desire and effort to study human cognitive processes. In 1949, Canadian psychologist Donald Hebb published the book The Organization of Behavior, in which he introduced a theoretical neural structure formed by certain interactions among nerve cells. Hebb's model of neurons interacting with one another set a groundwork for how AIs and machine learning algorithms work under nodes, or artificial neurons used by computers to communicate data. Other researchers who have studied human cognitive systems contributed to the modern machine learning technologies as well, including logician Walter Pitts and Warren McCulloch, who proposed the early mathematical models of neural networks to come up with algorithms that mirror human thought processes.By the early 1960s an experimental \"learning machine\" with punched tape memory, called Cybertron, had been developed by Raytheon Company to analyze sonar signals, electrocardiograms, and speech patterns using rudimentary reinforcement learning. It was repetitively \"trained\" by a human operator/teacher to recognize patterns and equipped with a \"goof\" button to cause it to re-evaluate incorrect decisions. A representative book on research into machine learning during the 1960s was Nilsson's book on Learning Machines, dealing mostly with machine learning for pattern classification. Interest related to pattern recognition continued into the 1970s, as described by Duda and Hart in 1973. In 1981 a report was given on using teaching strategies so that an artificial neural network learns to recognize 40 characters (26 letters, 10 digits, and 4 special symbols) from a computer terminal.Tom M. Mitchell provided a widely quoted, more formal definition of the algorithms studied in the machine learning field: \"A computer program is said to learn from experience E with respect to some class of tasks T and performance measure P if its performance at tasks in T, as measured by P,  improves with experience E.\" This definition of the tasks in which machine learning is concerned offers a fundamentally operational definition rather than defining the field in cognitive terms. This follows Alan Turing's proposal in his paper \"Computing Machinery and Intelligence\", in which the question \"Can machines think?\" is replaced with the question \"Can machines do what we (as thinking entities) can do?\".Modern-day machine learning has two objectives.  One is to \n",
      "\n",
      "Meta Data:  {'title': 'Machine learning', 'summary': \"Machine Learning (ML) is a field of study in artificial intelligence concerned with the development and study of statistical algorithms that can learn from data and generalize to unseen data, and thus perform tasks without explicit instructions. Recently, artificial neural networks have been able to surpass many previous approaches in performance.Machine learning approaches have been applied to many fields including natural language processing, computer vision, speech recognition, email filtering, agriculture, and medicine. ML is known in its application across business problems under the name predictive analytics. Although not all machine learning is statistically based, computational statistics is an important source of the field's methods.\\nThe mathematical foundations of ML are provided by mathematical optimization (mathematical programming) methods. Data mining is a related (parallel) field of study, focusing on exploratory data analysis (EDA) through unsupervised learning.From a theoretical viewpoint, probably approximately correct (PAC) learning provides a framework for describing machine learning.\\n\\n\", 'source': 'https://en.wikipedia.org/wiki/Machine_learning'}\n"
     ]
    }
   ],
   "source": [
    "print(\"\\nPage Content: \", wikipedia_data[0].page_content)\n",
    "print(\"\\nMeta Data: \", wikipedia_data[0].metadata)"
   ]
  },
  {
   "cell_type": "code",
   "execution_count": 9,
   "metadata": {},
   "outputs": [],
   "source": [
    "# Online Loader\n",
    "from langchain.document_loaders import HNLoader\n",
    "loader = HNLoader(\"https://news.ycombinator.com/item?id=34422627\")\n",
    "hn_data = loader.load()\n",
    "\n",
    "# Load content from local PDFs\n",
    "from langchain.document_loaders import PyPDFLoader, PyPDFDirectoryLoader\n",
    "loader = PyPDFLoader(\"attentions.pdf\")\n",
    "pdf_data = loader.load()\n",
    "\n",
    "#We can use a directory loader to load more than one PDF at once. \n",
    "#loader = PyPDFDirectoryLoader(\"Docs/\")\n",
    "#pdf_directory_data = loader.load()"
   ]
  },
  {
   "cell_type": "markdown",
   "metadata": {},
   "source": [
    "## Split the Wikipedia file with tokenizer"
   ]
  },
  {
   "cell_type": "code",
   "execution_count": 13,
   "metadata": {},
   "outputs": [
    {
     "name": "stdout",
     "output_type": "stream",
     "text": [
      "\n",
      "SPLITTING BY CHUNKS\n",
      "Wikipedia Data - Now you have 73 number of chunks.\n"
     ]
    }
   ],
   "source": [
    "# Splitter\n",
    "from langchain.text_splitter import RecursiveCharacterTextSplitter \n",
    "# Tokenizer\n",
    "from transformers import GPT2TokenizerFast  \n",
    "\n",
    "# Advanced method - Split by chunks ________________________________________________________________________\n",
    "# Create function to count tokens\n",
    "tokenizer = GPT2TokenizerFast.from_pretrained(\"gpt2\")\n",
    "\n",
    "def count_tokens(text: str) -> int:\n",
    "    return len(tokenizer.encode(text))\n",
    "\n",
    "text_splitter = RecursiveCharacterTextSplitter(\n",
    "    chunk_size      = 200, \n",
    "    chunk_overlap   = 20,\n",
    "    length_function = count_tokens # It uses len() by default. \n",
    ")\n",
    "\n",
    "print(\"\\nSPLITTING BY CHUNKS\")\n",
    "wikipedia_chunks = text_splitter.split_documents(wikipedia_data)\n",
    "print(\"Wikipedia Data - Now you have {0} number of chunks.\".format(len(wikipedia_chunks)))"
   ]
  },
  {
   "cell_type": "markdown",
   "metadata": {},
   "source": [
    "Chunk PDFs"
   ]
  },
  {
   "cell_type": "code",
   "execution_count": 14,
   "metadata": {},
   "outputs": [
    {
     "name": "stdout",
     "output_type": "stream",
     "text": [
      "HN Data - Now you have 15 number of chunks.\n",
      "Local PDF - Now you have 232 number of chunks.\n"
     ]
    }
   ],
   "source": [
    "#_____________________________________________________________________PDF DATA\n",
    "# 1 - Splitter\n",
    "from langchain.text_splitter import RecursiveCharacterTextSplitter \n",
    "# 2 - Tokenizer\n",
    "from transformers import GPT2TokenizerFast  \n",
    "\n",
    "# 3 - Create function to count tokens\n",
    "tokenizer = GPT2TokenizerFast.from_pretrained(\"gpt2\")\n",
    "\n",
    "def count_tokens(text: str) -> int:\n",
    "    return len(tokenizer.encode(text))\n",
    "\n",
    "# 4 - Define the splitter\n",
    "text_splitter = RecursiveCharacterTextSplitter(\n",
    "    chunk_size      = 200, \n",
    "    chunk_overlap   = 20,\n",
    "    length_function = count_tokens # It uses len() by default. \n",
    ")\n",
    "\n",
    "# 5 - Apply the .split_document command\n",
    "docs = text_splitter.split_documents(pdf_data)\n",
    "print(\"HN Data - Now you have {0} number of chunks.\".format(len(pdf_data)))\n",
    "\n",
    "\n",
    "#_____________________________________________________________________HN DATA\n",
    "# 1 - Splitter\n",
    "from langchain.text_splitter import RecursiveCharacterTextSplitter \n",
    "# 2 - Tokenizer\n",
    "from transformers import GPT2TokenizerFast  \n",
    "\n",
    "# 3 - We use the default len, no need to do anything.\n",
    "\n",
    "# 4 - Define the splitter\n",
    "text_splitter = RecursiveCharacterTextSplitter(\n",
    "    chunk_size      = 200, \n",
    "    chunk_overlap   = 20\n",
    ")\n",
    "\n",
    "\n",
    "hn_chunks = text_splitter.split_documents(hn_data)\n",
    "print(\"Local PDF - Now you have {0} number of chunks.\".format(len(hn_chunks)))"
   ]
  },
  {
   "cell_type": "markdown",
   "metadata": {},
   "source": [
    "We can make sure that the chunking has been successful by visualizing the distribution of chunk sizes. \n",
    "Since we have selected a chunk size of 200, the majority of our chunks should have this lenght:"
   ]
  },
  {
   "cell_type": "code",
   "execution_count": 16,
   "metadata": {},
   "outputs": [
    {
     "name": "stdout",
     "output_type": "stream",
     "text": [
      "Requirement already satisfied: pandas in c:\\users\\28263\\anaconda3\\lib\\site-packages (2.0.2)\n",
      "Requirement already satisfied: python-dateutil>=2.8.2 in c:\\users\\28263\\anaconda3\\lib\\site-packages (from pandas) (2.8.2)\n",
      "Requirement already satisfied: tzdata>=2022.1 in c:\\users\\28263\\anaconda3\\lib\\site-packages (from pandas) (2023.4)\n",
      "Requirement already satisfied: numpy>=1.21.0 in c:\\users\\28263\\anaconda3\\lib\\site-packages (from pandas) (1.23.5)\n",
      "Requirement already satisfied: pytz>=2020.1 in c:\\users\\28263\\anaconda3\\lib\\site-packages (from pandas) (2022.7)\n",
      "Requirement already satisfied: six>=1.5 in c:\\users\\28263\\anaconda3\\lib\\site-packages (from python-dateutil>=2.8.2->pandas) (1.16.0)\n",
      "Note: you may need to restart the kernel to use updated packages.\n"
     ]
    }
   ],
   "source": [
    "pip install pandas "
   ]
  },
  {
   "cell_type": "code",
   "execution_count": 24,
   "metadata": {},
   "outputs": [
    {
     "data": {
      "image/png": "[encoded data removed]",
      "text/plain": [
       "<Figure size 640x480 with 1 Axes>"
      ]
     },
     "metadata": {},
     "output_type": "display_data"
    }
   ],
   "source": [
    "# Quick data visualization to ensure chunking was successful\n",
    "\n",
    "# Create a list of token counts\n",
    "token_counts = [count_tokens(chunk.page_content) for chunk in docs]\n",
    "\n",
    "# Create a DataFrame from the token counts\n",
    "df = pd.DataFrame({'Token Count': token_counts})\n",
    "\n",
    "# Create a histogram of the token count distribution\n",
    "df.hist(bins=66, )\n",
    "\n",
    "# Show the plot\n",
    "plt.show()"
   ]
  },
  {
   "cell_type": "markdown",
   "metadata": {},
   "source": [
    "- **Split by pages**: If your data comes from documents organized in pages, there are methods that allow you to split data in pages to keep track of the page content. This method is specially useful when dealing with PDFs, as in the following example:"
   ]
  },
  {
   "cell_type": "code",
   "execution_count": 29,
   "metadata": {},
   "outputs": [
    {
     "name": "stdout",
     "output_type": "stream",
     "text": [
      "\n",
      "SPLITTING BY PAGES\n",
      "PDF Splited by Pages - You have 16 number of chunks.\n"
     ]
    }
   ],
   "source": [
    "# Simple method - Split by pages    ________________________________________________________________________\n",
    "# You need a PDF file in your environement. \n",
    "loader = PyPDFLoader(r\"C:\\Users\\28263\\Downloads\\Docs\\attentions.pdf\")\n",
    "pdf_pages_chunks = loader.load_and_split()\n",
    "pdf_pages_chunks\n",
    "\n",
    "print(\"\\nSPLITTING BY PAGES\")\n",
    "print(\"PDF Splited by Pages - You have {0} number of chunks.\".format(len(pdf_pages_chunks)))"
   ]
  },
  {
   "cell_type": "code",
   "execution_count": null,
   "metadata": {},
   "outputs": [],
   "source": []
  },
  {
   "cell_type": "markdown",
   "metadata": {},
   "source": [
    "# Vector Store:"
   ]
  },
  {
   "cell_type": "markdown",
   "metadata": {},
   "source": [
    "FAISS - LOCAL "
   ]
  },
  {
   "cell_type": "code",
   "execution_count": 31,
   "metadata": {},
   "outputs": [],
   "source": [
    "from langchain.vectorstores import FAISS  # for the vector database part -- FAISS is local and temporal, Pinecone is cloud-\n",
    "from langchain.embeddings.openai import OpenAIEmbeddings\n",
    "\n",
    "# Get embedding model\n",
    "embeddings = OpenAIEmbeddings()\n",
    "\n",
    "# OPTION 1: FAISS (Facebook AI Similarity Search) Local _______________________________________________________________________________________\n",
    "# Create vector database\n",
    "db_FAISS = FAISS.from_documents(docs, embeddings)\n",
    "\n"
   ]
  },
  {
   "cell_type": "markdown",
   "metadata": {},
   "source": [
    "# PINECONE"
   ]
  },
  {
   "cell_type": "code",
   "execution_count": 37,
   "metadata": {},
   "outputs": [
    {
     "name": "stdout",
     "output_type": "stream",
     "text": [
      "Requirement already satisfied: pinecone-client in c:\\users\\28263\\anaconda3\\lib\\site-packages (2.2.4)\n",
      "Requirement already satisfied: urllib3>=1.21.1 in c:\\users\\28263\\anaconda3\\lib\\site-packages (from pinecone-client) (2.2.1)\n",
      "Requirement already satisfied: loguru>=0.5.0 in c:\\users\\28263\\anaconda3\\lib\\site-packages (from pinecone-client) (0.7.2)\n",
      "Requirement already satisfied: numpy>=1.22.0 in c:\\users\\28263\\anaconda3\\lib\\site-packages (from pinecone-client) (1.23.5)\n",
      "Requirement already satisfied: typing-extensions>=3.7.4 in c:\\users\\28263\\anaconda3\\lib\\site-packages (from pinecone-client) (4.8.0)\n",
      "Requirement already satisfied: tqdm>=4.64.1 in c:\\users\\28263\\anaconda3\\lib\\site-packages (from pinecone-client) (4.65.0)\n",
      "Requirement already satisfied: pyyaml>=5.4 in c:\\users\\28263\\anaconda3\\lib\\site-packages (from pinecone-client) (6.0)\n",
      "Requirement already satisfied: dnspython>=2.0.0 in c:\\users\\28263\\anaconda3\\lib\\site-packages (from pinecone-client) (2.4.2)\n",
      "Requirement already satisfied: requests>=2.19.0 in c:\\users\\28263\\anaconda3\\lib\\site-packages (from pinecone-client) (2.31.0)\n",
      "Requirement already satisfied: python-dateutil>=2.5.3 in c:\\users\\28263\\anaconda3\\lib\\site-packages (from pinecone-client) (2.8.2)\n",
      "Requirement already satisfied: win32-setctime>=1.0.0 in c:\\users\\28263\\anaconda3\\lib\\site-packages (from loguru>=0.5.0->pinecone-client) (1.1.0)\n",
      "Requirement already satisfied: colorama>=0.3.4 in c:\\users\\28263\\anaconda3\\lib\\site-packages (from loguru>=0.5.0->pinecone-client) (0.4.6)\n",
      "Requirement already satisfied: six>=1.5 in c:\\users\\28263\\anaconda3\\lib\\site-packages (from python-dateutil>=2.5.3->pinecone-client) (1.16.0)\n",
      "Requirement already satisfied: certifi>=2017.4.17 in c:\\users\\28263\\anaconda3\\lib\\site-packages (from requests>=2.19.0->pinecone-client) (2023.11.17)\n",
      "Requirement already satisfied: idna<4,>=2.5 in c:\\users\\28263\\anaconda3\\lib\\site-packages (from requests>=2.19.0->pinecone-client) (3.4)\n",
      "Requirement already satisfied: charset-normalizer<4,>=2 in c:\\users\\28263\\anaconda3\\lib\\site-packages (from requests>=2.19.0->pinecone-client) (2.0.4)\n",
      "Note: you may need to restart the kernel to use updated packages.\n"
     ]
    }
   ],
   "source": [
    "pip install pinecone-client"
   ]
  },
  {
   "cell_type": "code",
   "execution_count": 42,
   "metadata": {},
   "outputs": [
    {
     "name": "stdout",
     "output_type": "stream",
     "text": [
      "Collecting pinecone-client==3.0.0\n",
      "  Downloading pinecone_client-3.0.0-py3-none-any.whl (199 kB)\n",
      "     -------------------------------------- 199.9/199.9 kB 5.9 MB/s eta 0:00:00\n",
      "Requirement already satisfied: tqdm>=4.64.1 in c:\\users\\28263\\anaconda3\\lib\\site-packages (from pinecone-client==3.0.0) (4.65.0)\n",
      "Requirement already satisfied: urllib3>=1.26.0 in c:\\users\\28263\\anaconda3\\lib\\site-packages (from pinecone-client==3.0.0) (2.2.1)\n",
      "Requirement already satisfied: typing-extensions>=3.7.4 in c:\\users\\28263\\anaconda3\\lib\\site-packages (from pinecone-client==3.0.0) (4.8.0)\n",
      "Requirement already satisfied: certifi>=2019.11.17 in c:\\users\\28263\\anaconda3\\lib\\site-packages (from pinecone-client==3.0.0) (2023.11.17)\n",
      "Requirement already satisfied: colorama in c:\\users\\28263\\anaconda3\\lib\\site-packages (from tqdm>=4.64.1->pinecone-client==3.0.0) (0.4.6)\n",
      "Installing collected packages: pinecone-client\n",
      "  Attempting uninstall: pinecone-client\n",
      "    Found existing installation: pinecone-client 2.2.4\n",
      "    Uninstalling pinecone-client-2.2.4:\n",
      "      Successfully uninstalled pinecone-client-2.2.4\n",
      "Successfully installed pinecone-client-3.0.0\n",
      "Note: you may need to restart the kernel to use updated packages.\n"
     ]
    }
   ],
   "source": [
    "pip install pinecone-client==3.0.0"
   ]
  },
  {
   "cell_type": "code",
   "execution_count": 1,
   "metadata": {},
   "outputs": [
    {
     "data": {
      "text/plain": [
       "{'dimension': 1536,\n",
       " 'index_fullness': 0.0,\n",
       " 'namespaces': {},\n",
       " 'total_vector_count': 0}"
      ]
     },
     "execution_count": 1,
     "metadata": {},
     "output_type": "execute_result"
    }
   ],
   "source": [
    "from pinecone import Pinecone, ServerlessSpec, PodSpec\n",
    "# OPTION 2: PINECONE Online\n",
    "import time\n",
    "from openai import OpenAI\n",
    "import time\n",
    "import os\n",
    "\n",
    "#from langchain_pinecone import PineconeVectorStore\n",
    "\n",
    "use_serverless = False\n",
    "\n",
    "\n",
    "\n",
    "\n",
    "# res = client.embeddings.create(\n",
    "#     input=[\n",
    "#         \"Sample document text goes here\",\n",
    "#         \"there will be several phrases in each batch\"\n",
    "#     ], model=MODEL\n",
    "# )\n",
    "\n",
    "# # we can extract embeddings to a list\n",
    "# embeds = [record.embedding for record in res.data]\n",
    "# len(embeds)\n",
    "pinecone_api_key = os.getenv('PINECONE_API_KEY')\n",
    "\n",
    "index_name = 'chatpdf' \n",
    "\n",
    "\n",
    "# configure client\n",
    "pc = Pinecone(api_key=pinecone_api_key)\n",
    "\n",
    "if use_serverless:\n",
    "    spec = ServerlessSpec(cloud='aws', region='us-west-2')\n",
    "else:\n",
    "    # if not using a starter index, you should specify a pod_type too\n",
    "    spec = PodSpec(pod_type='starter', environment='gcp-starter')\n",
    "\n",
    "# check for and delete index if already exists\n",
    "\n",
    "if index_name in pc.list_indexes().names():\n",
    "    pc.delete_index(index_name)\n",
    "\n",
    "# create a new index\n",
    "pc.create_index(\n",
    "    index_name,\n",
    "    dimension=1536,  # dimensionality of text-embedding-ada-002\n",
    "    metric='cosine',\n",
    "    spec=spec\n",
    ")\n",
    "\n",
    "# wait for index to be initialized\n",
    "while not pc.describe_index(index_name).status['ready']:\n",
    "    time.sleep(1)\n",
    "#Target the index and check its current stats:\n",
    "\n",
    "\n",
    "index = pc.Index(index_name)\n",
    "index.describe_index_stats()"
   ]
  },
  {
   "cell_type": "code",
   "execution_count": 12,
   "metadata": {},
   "outputs": [],
   "source": [
    "embeddings = OpenAIEmbeddings()\n",
    "\n"
   ]
  },
  {
   "cell_type": "code",
   "execution_count": 14,
   "metadata": {},
   "outputs": [],
   "source": [
    "\n",
    "from langchain_pinecone import PineconeVectorStore\n",
    "\n",
    "os.environ['PINECONE_API_KEY'] = '6e088a7e-2194-4ec3-9bd7-3f94ec4a9765'\n",
    "\n",
    "\n",
    "docsearch = PineconeVectorStore.from_documents(docs, embeddings, index_name=index_name)\n",
    "\n"
   ]
  },
  {
   "cell_type": "code",
   "execution_count": 41,
   "metadata": {},
   "outputs": [
    {
     "name": "stdout",
     "output_type": "stream",
     "text": [
      "sequence lengths, as memory constraints limit batching across examples. Recent work has achieved\n",
      "significant improvements in computational efficiency through factorization tricks [ 21] and conditional\n",
      "computation [ 32], while also improving model performance in case of the latter. The fundamental\n",
      "constraint of sequential computation, however, remains.\n",
      "Attention mechanisms have become an integral part of compelling sequence modeling and transduc-\n",
      "tion models in various tasks, allowing modeling of dependencies without regard to their distance in\n",
      "the input or output sequences [ 2,19]. In all but a few cases [ 27], however, such attention mechanisms\n",
      "are used in conjunction with a recurrent network.\n",
      "In this work we propose the Transformer, a model architecture eschewing recurrence and instead\n",
      "relying entirely on an attention mechanism to draw global dependencies between input and output.\n",
      "The Transformer allows for significantly more parallelization and can reach a new state of the art in\n"
     ]
    }
   ],
   "source": [
    "print(docs[5].page_content)"
   ]
  },
  {
   "cell_type": "code",
   "execution_count": 40,
   "metadata": {},
   "outputs": [
    {
     "name": "stdout",
     "output_type": "stream",
     "text": [
      "The Transformer allows for significantly more parallelization and can reach a new state of the art in\n",
      "translation quality after being trained for as little as twelve hours on eight P100 GPUs.\n",
      "2 Background\n",
      "The goal of reducing sequential computation also forms the foundation of the Extended Neural GPU\n",
      "[16], ByteNet [ 18] and ConvS2S [ 9], all of which use convolutional neural networks as basic building\n",
      "block, computing hidden representations in parallel for all input and output positions. In these models,\n",
      "the number of operations required to relate signals from two arbitrary input or output positions grows\n",
      "in the distance between positions, linearly for ConvS2S and logarithmically for ByteNet. This makes\n",
      "it more difficult to learn dependencies between distant positions [ 12]. In the Transformer this is\n",
      "reduced to a constant number of operations, albeit at the cost of reduced effective resolution due\n"
     ]
    }
   ],
   "source": [
    "query = \"What are transformers \"\n",
    "search = docsearch.similarity_search(query)\n",
    "print(search[0].page_content)\n",
    "\n",
    "\n"
   ]
  },
  {
   "cell_type": "code",
   "execution_count": 44,
   "metadata": {},
   "outputs": [
    {
     "data": {
      "text/plain": [
       "{'query': 'What is transformer',\n",
       " 'result': 'The Transformer is a neural network architecture that is based entirely on attention mechanisms, dispensing with recurrence and convolutions. It is used for sequence transduction tasks, such as machine translation. The Transformer model allows for more parallelization, faster training times, and has shown superior performance compared to models based on recurrent or convolutional layers.'}"
      ]
     },
     "execution_count": 44,
     "metadata": {},
     "output_type": "execute_result"
    }
   ],
   "source": [
    "from langchain_openai import ChatOpenAI\n",
    "from langchain.chains import RetrievalQA\n",
    "\n",
    "from langchain.chains import RetrievalQAWithSourcesChain\n",
    "\n",
    "query = 'What is transformer'\n",
    "# completion llm\n",
    "llm = ChatOpenAI(\n",
    "    openai_api_key=os.environ['OPENAI_API_KEY'],\n",
    "    model_name='gpt-3.5-turbo',\n",
    "    temperature=0.0\n",
    ")\n",
    "\n",
    "qa = RetrievalQA.from_chain_type(\n",
    "    llm=llm,\n",
    "    chain_type=\"stuff\",\n",
    "    retriever=docsearch.as_retriever()\n",
    ")\n",
    "\n",
    "qa.invoke(query)"
   ]
  },
  {
   "cell_type": "markdown",
   "metadata": {},
   "source": [
    "#With sources"
   ]
  },
  {
   "cell_type": "code",
   "execution_count": 45,
   "metadata": {},
   "outputs": [
    {
     "data": {
      "text/plain": [
       "{'question': 'What is transformer',\n",
       " 'answer': 'A transformer is a network architecture based solely on attention mechanisms, dispensing with recurrence and convolutions entirely. It is used for sequence transduction models and has shown superior quality in machine translation tasks.\\n',\n",
       " 'sources': 'C:\\\\Users\\\\28263\\\\Downloads\\\\Docs\\\\attentions.pdf'}"
      ]
     },
     "execution_count": 45,
     "metadata": {},
     "output_type": "execute_result"
    }
   ],
   "source": [
    "from langchain.chains import RetrievalQAWithSourcesChain\n",
    "\n",
    "qa_with_sources = RetrievalQAWithSourcesChain.from_chain_type(\n",
    "    llm=llm,\n",
    "    chain_type=\"stuff\",\n",
    "    retriever=docsearch.as_retriever()\n",
    ")\n",
    "\n",
    "qa_with_sources(query)"
   ]
  },
  {
   "cell_type": "markdown",
   "metadata": {},
   "source": [
    "# 6. Clean up\n",
    "When you no longer need the index, use the delete_index operation to delete it:\n",
    "\n"
   ]
  },
  {
   "cell_type": "code",
   "execution_count": null,
   "metadata": {},
   "outputs": [],
   "source": [
    "pc.delete_index(index_name)\n"
   ]
  },
  {
   "cell_type": "markdown",
   "metadata": {},
   "source": [
    "### Now upsert the data to Pinecone:\n",
    "\n"
   ]
  },
  {
   "cell_type": "code",
   "execution_count": 2,
   "metadata": {},
   "outputs": [
    {
     "name": "stdout",
     "output_type": "stream",
     "text": [
      "WARNING:tensorflow:From c:\\Users\\28263\\anaconda3\\lib\\site-packages\\keras\\src\\losses.py:2976: The name tf.losses.sparse_softmax_cross_entropy is deprecated. Please use tf.compat.v1.losses.sparse_softmax_cross_entropy instead.\n",
      "\n",
      "PDF Data - Now you have 15 number of chunks.\n"
     ]
    }
   ],
   "source": [
    "\n",
    "from langchain.document_loaders import PyPDFLoader, PyPDFDirectoryLoader\n",
    "loader = PyPDFLoader(r\"C:\\Users\\28263\\Downloads\\Docs\\attentions.pdf\")\n",
    "pdf_data = loader.load()\n",
    "\n",
    "from langchain.text_splitter import RecursiveCharacterTextSplitter \n",
    "# 2 - Tokenizer\n",
    "from transformers import GPT2TokenizerFast  \n",
    "\n",
    "# 3 - Create function to count tokens\n",
    "tokenizer = GPT2TokenizerFast.from_pretrained(\"gpt2\")\n",
    "\n",
    "def count_tokens(text: str) -> int:\n",
    "    return len(tokenizer.encode(text))\n",
    "\n",
    "# 4 - Define the splitter\n",
    "text_splitter = RecursiveCharacterTextSplitter(\n",
    "    chunk_size      = 200, \n",
    "    chunk_overlap   = 20,\n",
    "    length_function = count_tokens # It uses len() by default. \n",
    ")\n",
    "\n",
    "# 5 - Apply the .split_document command\n",
    "docs = text_splitter.split_documents(pdf_data)\n",
    "print(\"PDF Data - Now you have {0} number of chunks.\".format(len(pdf_data)))\n",
    "\n",
    "\n"
   ]
  },
  {
   "cell_type": "code",
   "execution_count": null,
   "metadata": {},
   "outputs": [],
   "source": []
  },
  {
   "cell_type": "code",
   "execution_count": 4,
   "metadata": {},
   "outputs": [
    {
     "data": {
      "image/png": "[encoded data removed]",
      "text/plain": [
       "<Figure size 640x480 with 1 Axes>"
      ]
     },
     "metadata": {},
     "output_type": "display_data"
    }
   ],
   "source": [
    "import pandas as pd\n",
    "import matplotlib.pyplot as plt\n",
    "# Create a list of token counts\n",
    "token_counts = [count_tokens(chunk.page_content) for chunk in docs]\n",
    "\n",
    "# Create a DataFrame from the token counts\n",
    "df = pd.DataFrame({'Token Count': token_counts})\n",
    "\n",
    "# Create a histogram of the token count distribution\n",
    "df.hist(bins=66, )\n",
    "\n",
    "# Show the plot\n",
    "plt.show()"
   ]
  },
  {
   "cell_type": "code",
   "execution_count": 10,
   "metadata": {},
   "outputs": [
    {
     "ename": "PineconeConfigurationError",
     "evalue": "You haven't specified an Api-Key.",
     "output_type": "error",
     "traceback": [
      "\u001b[1;31m---------------------------------------------------------------------------\u001b[0m",
      "\u001b[1;31mPineconeConfigurationError\u001b[0m                Traceback (most recent call last)",
      "Cell \u001b[1;32mIn[10], line 5\u001b[0m\n\u001b[0;32m      3\u001b[0m pinecone_api_key \u001b[38;5;241m=\u001b[39m \u001b[38;5;124m'\u001b[39m\u001b[38;5;124m6e088a7e-2194-4ec3-9bd7-3f94ec4a9765\u001b[39m\u001b[38;5;124m'\u001b[39m\n\u001b[0;32m      4\u001b[0m pc \u001b[38;5;241m=\u001b[39m Pinecone(pinecone_api_key)  \n\u001b[1;32m----> 5\u001b[0m docsearch \u001b[38;5;241m=\u001b[39m \u001b[43mPineconeVectorStore\u001b[49m\u001b[38;5;241;43m.\u001b[39;49m\u001b[43mfrom_documents\u001b[49m\u001b[43m(\u001b[49m\u001b[43mdocs\u001b[49m\u001b[43m,\u001b[49m\u001b[43m \u001b[49m\u001b[43membeddings\u001b[49m\u001b[43m,\u001b[49m\u001b[43m \u001b[49m\u001b[43mindex_name\u001b[49m\u001b[38;5;241;43m=\u001b[39;49m\u001b[43mindex_name\u001b[49m\u001b[43m)\u001b[49m\n",
      "File \u001b[1;32mc:\\Users\\28263\\anaconda3\\lib\\site-packages\\langchain_core\\vectorstores.py:528\u001b[0m, in \u001b[0;36mVectorStore.from_documents\u001b[1;34m(cls, documents, embedding, **kwargs)\u001b[0m\n\u001b[0;32m    526\u001b[0m texts \u001b[38;5;241m=\u001b[39m [d\u001b[38;5;241m.\u001b[39mpage_content \u001b[38;5;28;01mfor\u001b[39;00m d \u001b[38;5;129;01min\u001b[39;00m documents]\n\u001b[0;32m    527\u001b[0m metadatas \u001b[38;5;241m=\u001b[39m [d\u001b[38;5;241m.\u001b[39mmetadata \u001b[38;5;28;01mfor\u001b[39;00m d \u001b[38;5;129;01min\u001b[39;00m documents]\n\u001b[1;32m--> 528\u001b[0m \u001b[38;5;28;01mreturn\u001b[39;00m \u001b[38;5;28mcls\u001b[39m\u001b[38;5;241m.\u001b[39mfrom_texts(texts, embedding, metadatas\u001b[38;5;241m=\u001b[39mmetadatas, \u001b[38;5;241m*\u001b[39m\u001b[38;5;241m*\u001b[39mkwargs)\n",
      "File \u001b[1;32mc:\\Users\\28263\\anaconda3\\lib\\site-packages\\langchain_pinecone\\vectorstores.py:435\u001b[0m, in \u001b[0;36mPineconeVectorStore.from_texts\u001b[1;34m(cls, texts, embedding, metadatas, ids, batch_size, text_key, namespace, index_name, upsert_kwargs, pool_threads, embeddings_chunk_size, **kwargs)\u001b[0m\n\u001b[0;32m    392\u001b[0m \u001b[38;5;129m@classmethod\u001b[39m\n\u001b[0;32m    393\u001b[0m \u001b[38;5;28;01mdef\u001b[39;00m \u001b[38;5;21mfrom_texts\u001b[39m(\n\u001b[0;32m    394\u001b[0m     \u001b[38;5;28mcls\u001b[39m,\n\u001b[1;32m   (...)\u001b[0m\n\u001b[0;32m    406\u001b[0m     \u001b[38;5;241m*\u001b[39m\u001b[38;5;241m*\u001b[39mkwargs: Any,\n\u001b[0;32m    407\u001b[0m ) \u001b[38;5;241m-\u001b[39m\u001b[38;5;241m>\u001b[39m PineconeVectorStore:\n\u001b[0;32m    408\u001b[0m \u001b[38;5;250m    \u001b[39m\u001b[38;5;124;03m\"\"\"Construct Pinecone wrapper from raw documents.\u001b[39;00m\n\u001b[0;32m    409\u001b[0m \n\u001b[0;32m    410\u001b[0m \u001b[38;5;124;03m    This is a user friendly interface that:\u001b[39;00m\n\u001b[1;32m   (...)\u001b[0m\n\u001b[0;32m    433\u001b[0m \u001b[38;5;124;03m            )\u001b[39;00m\n\u001b[0;32m    434\u001b[0m \u001b[38;5;124;03m    \"\"\"\u001b[39;00m\n\u001b[1;32m--> 435\u001b[0m     pinecone_index \u001b[38;5;241m=\u001b[39m \u001b[38;5;28;43mcls\u001b[39;49m\u001b[38;5;241;43m.\u001b[39;49m\u001b[43mget_pinecone_index\u001b[49m\u001b[43m(\u001b[49m\u001b[43mindex_name\u001b[49m\u001b[43m,\u001b[49m\u001b[43m \u001b[49m\u001b[43mpool_threads\u001b[49m\u001b[43m)\u001b[49m\n\u001b[0;32m    436\u001b[0m     pinecone \u001b[38;5;241m=\u001b[39m \u001b[38;5;28mcls\u001b[39m(pinecone_index, embedding, text_key, namespace, \u001b[38;5;241m*\u001b[39m\u001b[38;5;241m*\u001b[39mkwargs)\n\u001b[0;32m    438\u001b[0m     pinecone\u001b[38;5;241m.\u001b[39madd_texts(\n\u001b[0;32m    439\u001b[0m         texts,\n\u001b[0;32m    440\u001b[0m         metadatas\u001b[38;5;241m=\u001b[39mmetadatas,\n\u001b[1;32m   (...)\u001b[0m\n\u001b[0;32m    445\u001b[0m         \u001b[38;5;241m*\u001b[39m\u001b[38;5;241m*\u001b[39m(upsert_kwargs \u001b[38;5;129;01mor\u001b[39;00m {}),\n\u001b[0;32m    446\u001b[0m     )\n",
      "File \u001b[1;32mc:\\Users\\28263\\anaconda3\\lib\\site-packages\\langchain_pinecone\\vectorstores.py:373\u001b[0m, in \u001b[0;36mPineconeVectorStore.get_pinecone_index\u001b[1;34m(cls, index_name, pool_threads, pinecone_api_key)\u001b[0m\n\u001b[0;32m    365\u001b[0m \u001b[38;5;250m\u001b[39m\u001b[38;5;124;03m\"\"\"Return a Pinecone Index instance.\u001b[39;00m\n\u001b[0;32m    366\u001b[0m \n\u001b[0;32m    367\u001b[0m \u001b[38;5;124;03mArgs:\u001b[39;00m\n\u001b[1;32m   (...)\u001b[0m\n\u001b[0;32m    370\u001b[0m \u001b[38;5;124;03mReturns:\u001b[39;00m\n\u001b[0;32m    371\u001b[0m \u001b[38;5;124;03m    Pinecone Index instance.\"\"\"\u001b[39;00m\n\u001b[0;32m    372\u001b[0m _pinecone_api_key \u001b[38;5;241m=\u001b[39m pinecone_api_key \u001b[38;5;129;01mor\u001b[39;00m os\u001b[38;5;241m.\u001b[39menviron\u001b[38;5;241m.\u001b[39mget(\u001b[38;5;124m\"\u001b[39m\u001b[38;5;124mPINECONE_API_KEY\u001b[39m\u001b[38;5;124m\"\u001b[39m) \u001b[38;5;129;01mor\u001b[39;00m \u001b[38;5;124m\"\u001b[39m\u001b[38;5;124m\"\u001b[39m\n\u001b[1;32m--> 373\u001b[0m client \u001b[38;5;241m=\u001b[39m \u001b[43mPineconeClient\u001b[49m\u001b[43m(\u001b[49m\u001b[43mapi_key\u001b[49m\u001b[38;5;241;43m=\u001b[39;49m\u001b[43m_pinecone_api_key\u001b[49m\u001b[43m,\u001b[49m\u001b[43m \u001b[49m\u001b[43mpool_threads\u001b[49m\u001b[38;5;241;43m=\u001b[39;49m\u001b[43mpool_threads\u001b[49m\u001b[43m)\u001b[49m\n\u001b[0;32m    374\u001b[0m indexes \u001b[38;5;241m=\u001b[39m client\u001b[38;5;241m.\u001b[39mlist_indexes()\n\u001b[0;32m    375\u001b[0m index_names \u001b[38;5;241m=\u001b[39m [i\u001b[38;5;241m.\u001b[39mname \u001b[38;5;28;01mfor\u001b[39;00m i \u001b[38;5;129;01min\u001b[39;00m indexes\u001b[38;5;241m.\u001b[39mindex_list[\u001b[38;5;124m\"\u001b[39m\u001b[38;5;124mindexes\u001b[39m\u001b[38;5;124m\"\u001b[39m]]\n",
      "File \u001b[1;32mc:\\Users\\28263\\anaconda3\\lib\\site-packages\\pinecone\\control\\pinecone.py:95\u001b[0m, in \u001b[0;36mPinecone.__init__\u001b[1;34m(self, api_key, host, config, additional_headers, pool_threads, index_api, **kwargs)\u001b[0m\n\u001b[0;32m     93\u001b[0m         \u001b[38;5;28mself\u001b[39m\u001b[38;5;241m.\u001b[39mconfig \u001b[38;5;241m=\u001b[39m configKwarg\n\u001b[0;32m     94\u001b[0m \u001b[38;5;28;01melse\u001b[39;00m:\n\u001b[1;32m---> 95\u001b[0m     \u001b[38;5;28mself\u001b[39m\u001b[38;5;241m.\u001b[39mconfig \u001b[38;5;241m=\u001b[39m PineconeConfig\u001b[38;5;241m.\u001b[39mbuild(api_key\u001b[38;5;241m=\u001b[39mapi_key, host\u001b[38;5;241m=\u001b[39mhost, additional_headers\u001b[38;5;241m=\u001b[39madditional_headers, \u001b[38;5;241m*\u001b[39m\u001b[38;5;241m*\u001b[39mkwargs)\n\u001b[0;32m     97\u001b[0m \u001b[38;5;28;01mif\u001b[39;00m index_api:\n\u001b[0;32m     98\u001b[0m     \u001b[38;5;28mself\u001b[39m\u001b[38;5;241m.\u001b[39mindex_api \u001b[38;5;241m=\u001b[39m index_api\n",
      "File \u001b[1;32mc:\\Users\\28263\\anaconda3\\lib\\site-packages\\pinecone\\config\\pinecone_config.py:12\u001b[0m, in \u001b[0;36mPineconeConfig.build\u001b[1;34m(api_key, host, additional_headers, **kwargs)\u001b[0m\n\u001b[0;32m      9\u001b[0m \u001b[38;5;129m@staticmethod\u001b[39m\n\u001b[0;32m     10\u001b[0m \u001b[38;5;28;01mdef\u001b[39;00m \u001b[38;5;21mbuild\u001b[39m(api_key: Optional[\u001b[38;5;28mstr\u001b[39m] \u001b[38;5;241m=\u001b[39m \u001b[38;5;28;01mNone\u001b[39;00m, host: Optional[\u001b[38;5;28mstr\u001b[39m] \u001b[38;5;241m=\u001b[39m \u001b[38;5;28;01mNone\u001b[39;00m, additional_headers: Optional[Dict[\u001b[38;5;28mstr\u001b[39m, \u001b[38;5;28mstr\u001b[39m]] \u001b[38;5;241m=\u001b[39m {},  \u001b[38;5;241m*\u001b[39m\u001b[38;5;241m*\u001b[39mkwargs) \u001b[38;5;241m-\u001b[39m\u001b[38;5;241m>\u001b[39m Config:\n\u001b[0;32m     11\u001b[0m     host \u001b[38;5;241m=\u001b[39m host \u001b[38;5;129;01mor\u001b[39;00m kwargs\u001b[38;5;241m.\u001b[39mget(\u001b[38;5;124m\"\u001b[39m\u001b[38;5;124mhost\u001b[39m\u001b[38;5;124m\"\u001b[39m) \u001b[38;5;129;01mor\u001b[39;00m os\u001b[38;5;241m.\u001b[39mgetenv(\u001b[38;5;124m\"\u001b[39m\u001b[38;5;124mPINECONE_CONTROLLER_HOST\u001b[39m\u001b[38;5;124m\"\u001b[39m) \u001b[38;5;129;01mor\u001b[39;00m DEFAULT_CONTROLLER_HOST\n\u001b[1;32m---> 12\u001b[0m     \u001b[38;5;28;01mreturn\u001b[39;00m ConfigBuilder\u001b[38;5;241m.\u001b[39mbuild(api_key\u001b[38;5;241m=\u001b[39mapi_key, host\u001b[38;5;241m=\u001b[39mhost, additional_headers\u001b[38;5;241m=\u001b[39madditional_headers, \u001b[38;5;241m*\u001b[39m\u001b[38;5;241m*\u001b[39mkwargs)\n",
      "File \u001b[1;32mc:\\Users\\28263\\anaconda3\\lib\\site-packages\\pinecone\\config\\config.py:45\u001b[0m, in \u001b[0;36mConfigBuilder.build\u001b[1;34m(api_key, host, openapi_config, additional_headers, **kwargs)\u001b[0m\n\u001b[0;32m     42\u001b[0m host \u001b[38;5;241m=\u001b[39m normalize_host(host)\n\u001b[0;32m     44\u001b[0m \u001b[38;5;28;01mif\u001b[39;00m \u001b[38;5;129;01mnot\u001b[39;00m api_key:\n\u001b[1;32m---> 45\u001b[0m     \u001b[38;5;28;01mraise\u001b[39;00m PineconeConfigurationError(\u001b[38;5;124m\"\u001b[39m\u001b[38;5;124mYou haven\u001b[39m\u001b[38;5;124m'\u001b[39m\u001b[38;5;124mt specified an Api-Key.\u001b[39m\u001b[38;5;124m\"\u001b[39m)\n\u001b[0;32m     46\u001b[0m \u001b[38;5;28;01mif\u001b[39;00m \u001b[38;5;129;01mnot\u001b[39;00m host:\n\u001b[0;32m     47\u001b[0m     \u001b[38;5;28;01mraise\u001b[39;00m PineconeConfigurationError(\u001b[38;5;124m\"\u001b[39m\u001b[38;5;124mYou haven\u001b[39m\u001b[38;5;124m'\u001b[39m\u001b[38;5;124mt specified a host.\u001b[39m\u001b[38;5;124m\"\u001b[39m)\n",
      "\u001b[1;31mPineconeConfigurationError\u001b[0m: You haven't specified an Api-Key."
     ]
    }
   ],
   "source": [
    "from langchain_pinecone import PineconeVectorStore\n",
    "\n",
    "pinecone_api_key = '6e088a7e-2194-4ec3-9bd7-3f94ec4a9765'\n",
    "pc = Pinecone(pinecone_api_key)  \n",
    "docsearch = PineconeVectorStore.from_documents(docs, embeddings, index_name=index_name)\n",
    "\n",
    "vectorstore = PineconeVectorStore(\n",
    "    index, embeddings, text_field = \"text\"\n",
    "\n",
    ")\n"
   ]
  },
  {
   "cell_type": "code",
   "execution_count": null,
   "metadata": {},
   "outputs": [],
   "source": []
  }
 ],
 "metadata": {
  "kernelspec": {
   "display_name": "base",
   "language": "python",
   "name": "python3"
  },
  "language_info": {
   "codemirror_mode": {
    "name": "ipython",
    "version": 3
   },
   "file_extension": ".py",
   "mimetype": "text/x-python",
   "name": "python",
   "nbconvert_exporter": "python",
   "pygments_lexer": "ipython3",
   "version": "3.10.9"
  }
 },
 "nbformat": 4,
 "nbformat_minor": 2
}
